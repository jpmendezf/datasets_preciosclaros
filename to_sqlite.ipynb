{
 "cells": [
  {
   "cell_type": "code",
   "execution_count": 1,
   "metadata": {},
   "outputs": [],
   "source": [
    "%load_ext django_orm_magic"
   ]
  },
  {
   "cell_type": "code",
   "execution_count": 2,
   "metadata": {},
   "outputs": [
    {
     "name": "stdout",
     "output_type": "stream",
     "text": [
      "Deleted custom settings. Back to default for %%django_orm\n"
     ]
    }
   ],
   "source": [
    "%django_settings --default"
   ]
  },
  {
   "cell_type": "code",
   "execution_count": 2,
   "metadata": {},
   "outputs": [
    {
     "name": "stdout",
     "output_type": "stream",
     "text": [
      "Settings for %%django_orm configured succesfully\n"
     ]
    }
   ],
   "source": [
    "%%django_settings\n",
    "\n",
    "DATABASES = {\n",
    "  'default': {\n",
    "    'ENGINE': 'django.db.backends.postgresql',\n",
    "    'NAME': 'preciosclaros',\n",
    "    'USER': 'preciosclaros',\n",
    "    'PASSWORD': 'preciosclaros'  \n",
    "  }\n",
    "}\n",
    "INSTALLED_APPS = (\"orm_magic\",)"
   ]
  },
  {
   "cell_type": "code",
   "execution_count": 2,
   "metadata": {},
   "outputs": [
    {
     "name": "stdout",
     "output_type": "stream",
     "text": [
      ",comercioId,banderaId,comercioRazonSocial,banderaDescripcion\r\n",
      "0,9,2,Jumbo Retail Argentina S.A.,Disco\r\n",
      "1,9,3,Jumbo Retail Argentina S.A.,Jumbo\r\n",
      "2,9,1,Jumbo Retail Argentina S.A.,Vea\r\n",
      "14,23,1,Pan American Energy LLC Argentina,Axion Energy\r\n",
      "33,11,5,Wal Mart Argentina S.R.L.,Walmart SuperCenter\r\n",
      "35,11,1,Wal Mart Argentina S.R.L.,Walmart Supermercado\r\n",
      "59,11,3,Wal Mart Argentina S.R.L.,Changomas Express\r\n",
      "60,15,1,DIA Argentina S.A,Supermercados DIA\r\n",
      "77,3,1,Deheza S.A.I.C.F. e I.,DEHEZA S.A.I.C.F. e I.\r\n"
     ]
    }
   ],
   "source": [
    "!head datasets/cadenas.csv"
   ]
  },
  {
   "cell_type": "code",
   "execution_count": 3,
   "metadata": {},
   "outputs": [
    {
     "name": "stdout",
     "output_type": "stream",
     "text": [
      "localidad,sucursalNombre,direccion,sucursalTipo,lat,lng,provincia,sucursalId,comercioId,banderaId\r\n",
      "CIUDAD AUTONOMA BUENOS AIRES,SM 916 Gorostiaga,Gorostiaga Jose Benjamin. 1636,Supermercado,-34.5655,-58.4368,AR-C,916,9,2\r\n",
      "CIUDAD AUTONOMA BUENOS AIRES,Jumbo Almagro,Guardia Vieja 4558,Hipermercado,-34.6,-58.4312,AR-C,5231,9,3\r\n",
      "CIUDAD AUTONOMA BUENOS AIRES,Barracas,Herrera 803,Supermercado,-34.6382,-58.3788,AR-C,741,9,1\r\n",
      "CIUDAD AUTONOMA BUENOS AIRES,Larrea.,Larrea 833,Supermercado,-34.5985,-58.4032,AR-C,10,9,1\r\n",
      "CIUDAD AUTONOMA BUENOS AIRES,Mansilla.,Mansilla Gral Lucio Norberto 3640,Supermercado,-34.5909,-58.4172,AR-C,5,9,1\r\n",
      "CIUDAD AUTONOMA BUENOS AIRES,SM Manzanares.,Manzanares Sold 3953,Supermercado,-34.5545,-58.4835,AR-C,665,9,1\r\n",
      "CIUDAD AUTONOMA BUENOS AIRES,Montevideo.,Montivideo 1037,Supermercado,-34.5964,-58.3902,AR-C,137,9,2\r\n",
      "CIUDAD AUTONOMA BUENOS AIRES,Naón.,Naon Dr. Romulo 2142,Supermercado,-34.5696,-58.473,AR-C,107,9,2\r\n",
      "CIUDAD AUTONOMA BUENOS AIRES,Paraguay.,Paraguay 4302,Supermercado,-34.5861,-58.4245,AR-C,16,9,2\r\n"
     ]
    }
   ],
   "source": [
    "!head datasets/sucursales.csv"
   ]
  },
  {
   "cell_type": "code",
   "execution_count": 4,
   "metadata": {},
   "outputs": [
    {
     "name": "stdout",
     "output_type": "stream",
     "text": [
      "nombre,marca,id,presentacion\r",
      "\r\n",
      "Yogur Entero Firme Frutado Multinutrientes Sancor Yogs 180 Gr,YOGS,7790080065107,180.0 gr\r",
      "\r\n",
      "Yogur Entero Firme Frutilla Sancor Yogs Pack 2 Un 250 Gr,YOGS,7790080065183,250.0 gr\r",
      "\r\n",
      "Yogur Entero Firme Frutilla Yogurisimo 190 Gr,YOGURISIMO,7791337651227,190.0 gr\r",
      "\r\n",
      "Yogur Entero Firme Frutilla Yogurisimo 4 Un 500 Gr,YOGURISIMO,7791337690820,500.0 gr\r",
      "\r\n",
      "Yogur Entero Firme Multinutrientes Frambuesa Mora Sancor Yogs 180 Gr,YOGS,7790080065121,180.0 gr\r",
      "\r\n",
      "Yogur Entero Firme Multinutrientes Frutal Sancor Yogs 190 Gr,YOGS,7790080065152,190.0 gr\r",
      "\r\n",
      "Yogur Entero Firme Multinutrientes Vainilla Sancor Yogs 190 Gr,YOGS,7790080065169,190.0 gr\r",
      "\r\n",
      "Yogur Entero Firme Vainilla Sancor Yogs Pack 2 Un 250 Gr,YOGS,7790080065190,250.0 gr\r",
      "\r\n",
      "Yogur Entero Firme Vainilla Yogurisimo 190 Gr,YOGURISIMO,7791337601215,190.0 gr\r",
      "\r\n"
     ]
    }
   ],
   "source": [
    "!head datasets/productos.csv"
   ]
  },
  {
   "cell_type": "code",
   "execution_count": 5,
   "metadata": {},
   "outputs": [
    {
     "name": "stdout",
     "output_type": "stream",
     "text": [
      "sucursal_id,precio,producto_id\r\n",
      "9-2-12,27.39,7790080065107\r\n",
      "9-2-12,22.45,7790080065183\r\n",
      "9-2-12,22.99,7791337651227\r\n",
      "9-2-12,40.0,7791337690820\r\n",
      "9-2-12,27.39,7790080065121\r\n",
      "9-2-12,19.99,7790080065152\r\n",
      "9-2-12,19.99,7790080065169\r\n",
      "9-2-12,22.45,7790080065190\r\n",
      "9-2-12,22.99,7791337601215\r\n"
     ]
    }
   ],
   "source": [
    "!head datasets/precios_2018-04-20.csv"
   ]
  },
  {
   "cell_type": "code",
   "execution_count": 3,
   "metadata": {},
   "outputs": [],
   "source": [
    "%%django_orm\n",
    "from django.db import models\n",
    "\n",
    "class Empresa(models.Model): \n",
    "    # aka comercio\n",
    "    external_id = models.PositiveIntegerField(null=True, blank=True)\n",
    "    nombre = models.CharField(max_length=80)\n",
    "    \n",
    "\n",
    "class Cadena(models.Model):\n",
    "    # aka Bandera\n",
    "    external_id = models.PositiveIntegerField()\n",
    "    empresa = models.ForeignKey('Empresa', on_delete=models.CASCADE)\n",
    "    nombre = models.CharField(max_length=80)\n",
    "\n",
    "    \n",
    "class Sucursal(models.Model):\n",
    "    external_id = models.CharField(max_length=20, primary_key=True)\n",
    "    localidad = models.CharField(max_length=80)\n",
    "    nombre = models.CharField(max_length=50)\n",
    "    direccion = models.CharField(max_length=100)\n",
    "    tipo = models.CharField(max_length=20)\n",
    "    lat = models.FloatField()\n",
    "    lng = models.FloatField()\n",
    "    cadena = models.ForeignKey('Cadena', on_delete=models.CASCADE)\n",
    "    \n",
    "    \n",
    "class Marca(models.Model):\n",
    "    nombre = models.CharField(max_length=80, primary_key=True)\n",
    "    empresa = models.ForeignKey('Empresa', null=True, on_delete=models.SET_NULL)\n",
    "    \n",
    "\n",
    "class Categoria(models.Model):\n",
    "    nombre = models.CharField(max_length=80)\n",
    "    \n",
    "    \n",
    "class Producto(models.Model):\n",
    "    codigo = models.CharField(max_length=20, primary_key=True)\n",
    "    nombre = models.CharField(max_length=150)\n",
    "    marca = models.ForeignKey('Marca',  on_delete=models.CASCADE)\n",
    "    categoria = models.ForeignKey('Categoria', null=True, on_delete=models.SET_NULL)\n",
    "    presentacion = models.CharField(max_length=50)\n",
    "    \n",
    "class Relevamiento(models.Model):\n",
    "    fecha = models.DateField()\n",
    "    \n",
    "    \n",
    "class Precio(models.Model):\n",
    "    relevamiento = models.ForeignKey(Relevamiento, on_delete=models.CASCADE)\n",
    "    producto = models.ForeignKey(Producto, on_delete=models.CASCADE)\n",
    "    sucursal = models.ForeignKey(Sucursal, on_delete=models.CASCADE)\n",
    "    precio = models.FloatField()  # DecimalField(max_digits=6, decimal_places=2)"
   ]
  },
  {
   "cell_type": "code",
   "execution_count": 4,
   "metadata": {
    "collapsed": true
   },
   "outputs": [],
   "source": [
    "import pandas as pd"
   ]
  },
  {
   "cell_type": "code",
   "execution_count": 5,
   "metadata": {
    "collapsed": true
   },
   "outputs": [],
   "source": [
    "cadenas = pd.read_csv('datasets/cadenas.csv')"
   ]
  },
  {
   "cell_type": "code",
   "execution_count": 6,
   "metadata": {},
   "outputs": [],
   "source": [
    "c = []\n",
    "for row in cadenas.itertuples():\n",
    "    empresa, _ = Empresa.objects.get_or_create(nombre=row.comercioRazonSocial, external_id=row.comercioId)\n",
    "    c.append(Cadena(empresa=empresa, nombre=row.banderaDescripcion, external_id=row.banderaId))\n",
    "Cadena.objects.bulk_create(c);"
   ]
  },
  {
   "cell_type": "code",
   "execution_count": 7,
   "metadata": {},
   "outputs": [
    {
     "data": {
      "text/plain": [
       "(0, {})"
      ]
     },
     "execution_count": 7,
     "metadata": {},
     "output_type": "execute_result"
    }
   ],
   "source": [
    "Sucursal.objects.all().delete()"
   ]
  },
  {
   "cell_type": "code",
   "execution_count": 8,
   "metadata": {},
   "outputs": [],
   "source": [
    "sucs = pd.read_csv('datasets/sucursales.csv')\n",
    "s = []\n",
    "for row in sucs.drop_duplicates(['comercioId', 'banderaId', 'sucursalId']).itertuples():\n",
    "    cadena = Cadena.objects.get(empresa__external_id=row.comercioId, external_id=row.banderaId)\n",
    "    external_id = \"{}-{}-{}\".format(row.comercioId, row.banderaId, row.sucursalId)\n",
    "    s.append(Sucursal(external_id=external_id, localidad=row.localidad, nombre=row.sucursalNombre, \n",
    "                      direccion=row.direccion, tipo=row.sucursalTipo, \n",
    "                      lat = row.lat, lng=row.lng, cadena=cadena))\n",
    "Sucursal.objects.bulk_create(s);\n",
    "                        "
   ]
  },
  {
   "cell_type": "code",
   "execution_count": 9,
   "metadata": {},
   "outputs": [
    {
     "data": {
      "text/plain": [
       "(0, {})"
      ]
     },
     "execution_count": 9,
     "metadata": {},
     "output_type": "execute_result"
    }
   ],
   "source": [
    "Producto.objects.all().delete()"
   ]
  },
  {
   "cell_type": "code",
   "execution_count": 10,
   "metadata": {
    "collapsed": true
   },
   "outputs": [],
   "source": [
    "prods = pd.read_csv('datasets/productos.csv')"
   ]
  },
  {
   "cell_type": "code",
   "execution_count": 11,
   "metadata": {},
   "outputs": [],
   "source": [
    "Marca.objects.all().delete()\n",
    "Marca.objects.bulk_create([Marca(nombre=m) for m in prods.marca.unique()]);"
   ]
  },
  {
   "cell_type": "code",
   "execution_count": 12,
   "metadata": {},
   "outputs": [],
   "source": [
    "objects = []\n",
    "for row in prods.drop_duplicates('id').itertuples():\n",
    "    objects.append(Producto(codigo=row.id, nombre=row.nombre, presentacion=row.presentacion, marca_id=row.marca))\n",
    "Producto.objects.bulk_create(objects);"
   ]
  },
  {
   "cell_type": "code",
   "execution_count": 13,
   "metadata": {},
   "outputs": [
    {
     "data": {
      "text/plain": [
       "55785"
      ]
     },
     "execution_count": 13,
     "metadata": {},
     "output_type": "execute_result"
    }
   ],
   "source": [
    "Producto.objects.count()"
   ]
  },
  {
   "cell_type": "code",
   "execution_count": 14,
   "metadata": {
    "collapsed": true
   },
   "outputs": [],
   "source": [
    "from itertools import zip_longest\n",
    "\n",
    "def grouper(iterable, n, fillvalue=None):\n",
    "    \"Collect data into fixed-length chunks or blocks\"\n",
    "    # grouper('ABCDEFG', 3, 'x') --> ABC DEF Gxx\"\n",
    "    args = [iter(iterable)] * n\n",
    "    return zip_longest(*args, fillvalue=fillvalue)\n"
   ]
  },
  {
   "cell_type": "code",
   "execution_count": 15,
   "metadata": {
    "collapsed": true
   },
   "outputs": [],
   "source": [
    "from tqdm import tqdm_notebook"
   ]
  },
  {
   "cell_type": "code",
   "execution_count": 16,
   "metadata": {},
   "outputs": [
    {
     "data": {
      "text/plain": [
       "(0, {})"
      ]
     },
     "execution_count": 16,
     "metadata": {},
     "output_type": "execute_result"
    }
   ],
   "source": [
    "Relevamiento.objects.all().delete()"
   ]
  },
  {
   "cell_type": "code",
   "execution_count": 17,
   "metadata": {},
   "outputs": [
    {
     "data": {
      "application/vnd.jupyter.widget-view+json": {
       "model_id": "50505600018c4c3a8910fbfb0165091c"
      }
     },
     "metadata": {},
     "output_type": "display_data"
    },
    {
     "data": {
      "application/vnd.jupyter.widget-view+json": {
       "model_id": "77bd709eab37422b80d2b3c243226455"
      }
     },
     "metadata": {},
     "output_type": "display_data"
    },
    {
     "data": {
      "application/vnd.jupyter.widget-view+json": {
       "model_id": "0c053d8726dc48d2924206008d20f9ef"
      }
     },
     "metadata": {},
     "output_type": "display_data"
    },
    {
     "data": {
      "application/vnd.jupyter.widget-view+json": {
       "model_id": "d9d0774424fc4ad3a4f48e1fb843c6bc"
      }
     },
     "metadata": {},
     "output_type": "display_data"
    },
    {
     "data": {
      "application/vnd.jupyter.widget-view+json": {
       "model_id": "dcba28c3f4f04159944347d1425b8d35"
      }
     },
     "metadata": {},
     "output_type": "display_data"
    },
    {
     "name": "stderr",
     "output_type": "stream",
     "text": [
      "/home/tin/.virtualenvs/curso/lib/python3.6/site-packages/IPython/core/interactiveshell.py:2698: DtypeWarning: Columns (0) have mixed types. Specify dtype option on import or set low_memory=False.\n",
      "  interactivity=interactivity, compiler=compiler, result=result)\n"
     ]
    },
    {
     "ename": "TypeError",
     "evalue": "'>' not supported between instances of 'str' and 'int'",
     "output_type": "error",
     "traceback": [
      "\u001b[0;31m---------------------------------------------------------------------------\u001b[0m",
      "\u001b[0;31mTypeError\u001b[0m                                 Traceback (most recent call last)",
      "\u001b[0;32m<ipython-input-17-01ac504cbebf>\u001b[0m in \u001b[0;36m<module>\u001b[0;34m()\u001b[0m\n\u001b[1;32m      8\u001b[0m     \u001b[0mprecios\u001b[0m \u001b[0;34m=\u001b[0m \u001b[0mpd\u001b[0m\u001b[0;34m.\u001b[0m\u001b[0mread_csv\u001b[0m\u001b[0;34m(\u001b[0m\u001b[0mcsv\u001b[0m\u001b[0;34m)\u001b[0m\u001b[0;34m\u001b[0m\u001b[0m\n\u001b[1;32m      9\u001b[0m     \u001b[0;31m# sólo precios para productos conocidos\u001b[0m\u001b[0;34m\u001b[0m\u001b[0;34m\u001b[0m\u001b[0m\n\u001b[0;32m---> 10\u001b[0;31m     \u001b[0mprecios\u001b[0m \u001b[0;34m=\u001b[0m \u001b[0mprecios\u001b[0m\u001b[0;34m.\u001b[0m\u001b[0mloc\u001b[0m\u001b[0;34m[\u001b[0m\u001b[0mprecios\u001b[0m\u001b[0;34m.\u001b[0m\u001b[0mproducto_id\u001b[0m\u001b[0;34m.\u001b[0m\u001b[0misin\u001b[0m\u001b[0;34m(\u001b[0m\u001b[0mprods\u001b[0m\u001b[0;34m.\u001b[0m\u001b[0mid\u001b[0m\u001b[0;34m)\u001b[0m\u001b[0;34m]\u001b[0m\u001b[0;34m\u001b[0m\u001b[0m\n\u001b[0m\u001b[1;32m     11\u001b[0m \u001b[0;34m\u001b[0m\u001b[0m\n\u001b[1;32m     12\u001b[0m     \u001b[0mexpected_iterations\u001b[0m \u001b[0;34m=\u001b[0m \u001b[0mprecios\u001b[0m\u001b[0;34m.\u001b[0m\u001b[0msize\u001b[0m \u001b[0;34m//\u001b[0m \u001b[0mCHUNK_SIZE\u001b[0m \u001b[0;34m+\u001b[0m \u001b[0;36m1\u001b[0m\u001b[0;34m\u001b[0m\u001b[0m\n",
      "\u001b[0;32m~/.virtualenvs/curso/lib/python3.6/site-packages/pandas/core/series.py\u001b[0m in \u001b[0;36misin\u001b[0;34m(self, values)\u001b[0m\n\u001b[1;32m   2553\u001b[0m \u001b[0;34m\u001b[0m\u001b[0m\n\u001b[1;32m   2554\u001b[0m         \"\"\"\n\u001b[0;32m-> 2555\u001b[0;31m         \u001b[0mresult\u001b[0m \u001b[0;34m=\u001b[0m \u001b[0malgorithms\u001b[0m\u001b[0;34m.\u001b[0m\u001b[0misin\u001b[0m\u001b[0;34m(\u001b[0m\u001b[0m_values_from_object\u001b[0m\u001b[0;34m(\u001b[0m\u001b[0mself\u001b[0m\u001b[0;34m)\u001b[0m\u001b[0;34m,\u001b[0m \u001b[0mvalues\u001b[0m\u001b[0;34m)\u001b[0m\u001b[0;34m\u001b[0m\u001b[0m\n\u001b[0m\u001b[1;32m   2556\u001b[0m         \u001b[0;32mreturn\u001b[0m \u001b[0mself\u001b[0m\u001b[0;34m.\u001b[0m\u001b[0m_constructor\u001b[0m\u001b[0;34m(\u001b[0m\u001b[0mresult\u001b[0m\u001b[0;34m,\u001b[0m \u001b[0mindex\u001b[0m\u001b[0;34m=\u001b[0m\u001b[0mself\u001b[0m\u001b[0;34m.\u001b[0m\u001b[0mindex\u001b[0m\u001b[0;34m)\u001b[0m\u001b[0;34m.\u001b[0m\u001b[0m__finalize__\u001b[0m\u001b[0;34m(\u001b[0m\u001b[0mself\u001b[0m\u001b[0;34m)\u001b[0m\u001b[0;34m\u001b[0m\u001b[0m\n\u001b[1;32m   2557\u001b[0m \u001b[0;34m\u001b[0m\u001b[0m\n",
      "\u001b[0;32m~/.virtualenvs/curso/lib/python3.6/site-packages/pandas/core/algorithms.py\u001b[0m in \u001b[0;36misin\u001b[0;34m(comps, values)\u001b[0m\n\u001b[1;32m    424\u001b[0m             \u001b[0mcomps\u001b[0m \u001b[0;34m=\u001b[0m \u001b[0mcomps\u001b[0m\u001b[0;34m.\u001b[0m\u001b[0mastype\u001b[0m\u001b[0;34m(\u001b[0m\u001b[0mobject\u001b[0m\u001b[0;34m)\u001b[0m\u001b[0;34m\u001b[0m\u001b[0m\n\u001b[1;32m    425\u001b[0m \u001b[0;34m\u001b[0m\u001b[0m\n\u001b[0;32m--> 426\u001b[0;31m     \u001b[0;32mreturn\u001b[0m \u001b[0mf\u001b[0m\u001b[0;34m(\u001b[0m\u001b[0mcomps\u001b[0m\u001b[0;34m,\u001b[0m \u001b[0mvalues\u001b[0m\u001b[0;34m)\u001b[0m\u001b[0;34m\u001b[0m\u001b[0m\n\u001b[0m\u001b[1;32m    427\u001b[0m \u001b[0;34m\u001b[0m\u001b[0m\n\u001b[1;32m    428\u001b[0m \u001b[0;34m\u001b[0m\u001b[0m\n",
      "\u001b[0;32m~/.virtualenvs/curso/lib/python3.6/site-packages/pandas/core/algorithms.py\u001b[0m in \u001b[0;36m<lambda>\u001b[0;34m(x, y)\u001b[0m\n\u001b[1;32m    404\u001b[0m     \u001b[0mf\u001b[0m \u001b[0;34m=\u001b[0m \u001b[0;32mlambda\u001b[0m \u001b[0mx\u001b[0m\u001b[0;34m,\u001b[0m \u001b[0my\u001b[0m\u001b[0;34m:\u001b[0m \u001b[0mhtable\u001b[0m\u001b[0;34m.\u001b[0m\u001b[0mismember_object\u001b[0m\u001b[0;34m(\u001b[0m\u001b[0mx\u001b[0m\u001b[0;34m,\u001b[0m \u001b[0mvalues\u001b[0m\u001b[0;34m)\u001b[0m\u001b[0;34m\u001b[0m\u001b[0m\n\u001b[1;32m    405\u001b[0m     \u001b[0;32mif\u001b[0m \u001b[0;34m(\u001b[0m\u001b[0m_np_version_under1p8\u001b[0m \u001b[0;32mand\u001b[0m \u001b[0mcompat\u001b[0m\u001b[0;34m.\u001b[0m\u001b[0mPY3\u001b[0m\u001b[0;34m)\u001b[0m \u001b[0;32mor\u001b[0m \u001b[0mlen\u001b[0m\u001b[0;34m(\u001b[0m\u001b[0mcomps\u001b[0m\u001b[0;34m)\u001b[0m \u001b[0;34m>\u001b[0m \u001b[0;36m1000000\u001b[0m\u001b[0;34m:\u001b[0m\u001b[0;34m\u001b[0m\u001b[0m\n\u001b[0;32m--> 406\u001b[0;31m         \u001b[0mf\u001b[0m \u001b[0;34m=\u001b[0m \u001b[0;32mlambda\u001b[0m \u001b[0mx\u001b[0m\u001b[0;34m,\u001b[0m \u001b[0my\u001b[0m\u001b[0;34m:\u001b[0m \u001b[0mnp\u001b[0m\u001b[0;34m.\u001b[0m\u001b[0min1d\u001b[0m\u001b[0;34m(\u001b[0m\u001b[0mx\u001b[0m\u001b[0;34m,\u001b[0m \u001b[0my\u001b[0m\u001b[0;34m)\u001b[0m\u001b[0;34m\u001b[0m\u001b[0m\n\u001b[0m\u001b[1;32m    407\u001b[0m     \u001b[0;32melif\u001b[0m \u001b[0mis_integer_dtype\u001b[0m\u001b[0;34m(\u001b[0m\u001b[0mcomps\u001b[0m\u001b[0;34m)\u001b[0m\u001b[0;34m:\u001b[0m\u001b[0;34m\u001b[0m\u001b[0m\n\u001b[1;32m    408\u001b[0m         \u001b[0;32mtry\u001b[0m\u001b[0;34m:\u001b[0m\u001b[0;34m\u001b[0m\u001b[0m\n",
      "\u001b[0;32m~/.virtualenvs/curso/lib/python3.6/site-packages/numpy/lib/arraysetops.py\u001b[0m in \u001b[0;36min1d\u001b[0;34m(ar1, ar2, assume_unique, invert)\u001b[0m\n\u001b[1;32m    466\u001b[0m     \u001b[0;31m# Otherwise use sorting\u001b[0m\u001b[0;34m\u001b[0m\u001b[0;34m\u001b[0m\u001b[0m\n\u001b[1;32m    467\u001b[0m     \u001b[0;32mif\u001b[0m \u001b[0;32mnot\u001b[0m \u001b[0massume_unique\u001b[0m\u001b[0;34m:\u001b[0m\u001b[0;34m\u001b[0m\u001b[0m\n\u001b[0;32m--> 468\u001b[0;31m         \u001b[0mar1\u001b[0m\u001b[0;34m,\u001b[0m \u001b[0mrev_idx\u001b[0m \u001b[0;34m=\u001b[0m \u001b[0mnp\u001b[0m\u001b[0;34m.\u001b[0m\u001b[0munique\u001b[0m\u001b[0;34m(\u001b[0m\u001b[0mar1\u001b[0m\u001b[0;34m,\u001b[0m \u001b[0mreturn_inverse\u001b[0m\u001b[0;34m=\u001b[0m\u001b[0;32mTrue\u001b[0m\u001b[0;34m)\u001b[0m\u001b[0;34m\u001b[0m\u001b[0m\n\u001b[0m\u001b[1;32m    469\u001b[0m         \u001b[0mar2\u001b[0m \u001b[0;34m=\u001b[0m \u001b[0mnp\u001b[0m\u001b[0;34m.\u001b[0m\u001b[0munique\u001b[0m\u001b[0;34m(\u001b[0m\u001b[0mar2\u001b[0m\u001b[0;34m)\u001b[0m\u001b[0;34m\u001b[0m\u001b[0m\n\u001b[1;32m    470\u001b[0m \u001b[0;34m\u001b[0m\u001b[0m\n",
      "\u001b[0;32m~/.virtualenvs/curso/lib/python3.6/site-packages/numpy/lib/arraysetops.py\u001b[0m in \u001b[0;36munique\u001b[0;34m(ar, return_index, return_inverse, return_counts, axis)\u001b[0m\n\u001b[1;32m    208\u001b[0m     \u001b[0mar\u001b[0m \u001b[0;34m=\u001b[0m \u001b[0mnp\u001b[0m\u001b[0;34m.\u001b[0m\u001b[0masanyarray\u001b[0m\u001b[0;34m(\u001b[0m\u001b[0mar\u001b[0m\u001b[0;34m)\u001b[0m\u001b[0;34m\u001b[0m\u001b[0m\n\u001b[1;32m    209\u001b[0m     \u001b[0;32mif\u001b[0m \u001b[0maxis\u001b[0m \u001b[0;32mis\u001b[0m \u001b[0;32mNone\u001b[0m\u001b[0;34m:\u001b[0m\u001b[0;34m\u001b[0m\u001b[0m\n\u001b[0;32m--> 210\u001b[0;31m         \u001b[0;32mreturn\u001b[0m \u001b[0m_unique1d\u001b[0m\u001b[0;34m(\u001b[0m\u001b[0mar\u001b[0m\u001b[0;34m,\u001b[0m \u001b[0mreturn_index\u001b[0m\u001b[0;34m,\u001b[0m \u001b[0mreturn_inverse\u001b[0m\u001b[0;34m,\u001b[0m \u001b[0mreturn_counts\u001b[0m\u001b[0;34m)\u001b[0m\u001b[0;34m\u001b[0m\u001b[0m\n\u001b[0m\u001b[1;32m    211\u001b[0m     \u001b[0;32mif\u001b[0m \u001b[0;32mnot\u001b[0m \u001b[0;34m(\u001b[0m\u001b[0;34m-\u001b[0m\u001b[0mar\u001b[0m\u001b[0;34m.\u001b[0m\u001b[0mndim\u001b[0m \u001b[0;34m<=\u001b[0m \u001b[0maxis\u001b[0m \u001b[0;34m<\u001b[0m \u001b[0mar\u001b[0m\u001b[0;34m.\u001b[0m\u001b[0mndim\u001b[0m\u001b[0;34m)\u001b[0m\u001b[0;34m:\u001b[0m\u001b[0;34m\u001b[0m\u001b[0m\n\u001b[1;32m    212\u001b[0m         \u001b[0;32mraise\u001b[0m \u001b[0mValueError\u001b[0m\u001b[0;34m(\u001b[0m\u001b[0;34m'Invalid axis kwarg specified for unique'\u001b[0m\u001b[0;34m)\u001b[0m\u001b[0;34m\u001b[0m\u001b[0m\n",
      "\u001b[0;32m~/.virtualenvs/curso/lib/python3.6/site-packages/numpy/lib/arraysetops.py\u001b[0m in \u001b[0;36m_unique1d\u001b[0;34m(ar, return_index, return_inverse, return_counts)\u001b[0m\n\u001b[1;32m    272\u001b[0m \u001b[0;34m\u001b[0m\u001b[0m\n\u001b[1;32m    273\u001b[0m     \u001b[0;32mif\u001b[0m \u001b[0moptional_indices\u001b[0m\u001b[0;34m:\u001b[0m\u001b[0;34m\u001b[0m\u001b[0m\n\u001b[0;32m--> 274\u001b[0;31m         \u001b[0mperm\u001b[0m \u001b[0;34m=\u001b[0m \u001b[0mar\u001b[0m\u001b[0;34m.\u001b[0m\u001b[0margsort\u001b[0m\u001b[0;34m(\u001b[0m\u001b[0mkind\u001b[0m\u001b[0;34m=\u001b[0m\u001b[0;34m'mergesort'\u001b[0m \u001b[0;32mif\u001b[0m \u001b[0mreturn_index\u001b[0m \u001b[0;32melse\u001b[0m \u001b[0;34m'quicksort'\u001b[0m\u001b[0;34m)\u001b[0m\u001b[0;34m\u001b[0m\u001b[0m\n\u001b[0m\u001b[1;32m    275\u001b[0m         \u001b[0maux\u001b[0m \u001b[0;34m=\u001b[0m \u001b[0mar\u001b[0m\u001b[0;34m[\u001b[0m\u001b[0mperm\u001b[0m\u001b[0;34m]\u001b[0m\u001b[0;34m\u001b[0m\u001b[0m\n\u001b[1;32m    276\u001b[0m     \u001b[0;32melse\u001b[0m\u001b[0;34m:\u001b[0m\u001b[0;34m\u001b[0m\u001b[0m\n",
      "\u001b[0;31mTypeError\u001b[0m: '>' not supported between instances of 'str' and 'int'"
     ]
    }
   ],
   "source": [
    "CHUNK_SIZE = int(20e3)\n",
    "\n",
    "archivos = !ls datasets/precios_*.csv\n",
    "fechas = [f[17:-4] for f in archivos ]\n",
    "\n",
    "for fecha, csv in tqdm_notebook(zip(fechas, archivos), total=len(fechas)):\n",
    "    relevamiento, _ = Relevamiento.objects.get_or_create(fecha=fecha)\n",
    "    precios = pd.read_csv(csv)\n",
    "    # sólo precios para productos conocidos\n",
    "    precios = precios.loc[precios.producto_id.isin(prods.id)]\n",
    "    \n",
    "    expected_iterations = precios.size // CHUNK_SIZE + 1\n",
    "    for group in tqdm_notebook(grouper(precios.itertuples(), CHUNK_SIZE), total=expected_iterations): \n",
    "        p = []\n",
    "        for r in group:\n",
    "            if not r:\n",
    "                # terminamos! \n",
    "                break\n",
    "            try:\n",
    "                p.append(Precio(sucursal_id=r.sucursal_id, producto_id=r.producto_id, relevamiento=relevamiento, precio=r.precio))\n",
    "            except Exception as e:\n",
    "                print(e)\n",
    "                continue\n",
    "        Precio.objects.bulk_create(p)"
   ]
  },
  {
   "cell_type": "code",
   "execution_count": 24,
   "metadata": {},
   "outputs": [
    {
     "data": {
      "text/plain": [
       "6071219"
      ]
     },
     "execution_count": 24,
     "metadata": {},
     "output_type": "execute_result"
    }
   ],
   "source": [
    "precios.index.size"
   ]
  },
  {
   "cell_type": "code",
   "execution_count": 25,
   "metadata": {},
   "outputs": [
    {
     "data": {
      "application/vnd.jupyter.widget-view+json": {
       "model_id": "6029f819816b4b11beeebdf4c4a1c763"
      }
     },
     "metadata": {},
     "output_type": "display_data"
    },
    {
     "name": "stderr",
     "output_type": "stream",
     "text": [
      "/home/tin/.virtualenvs/curso/lib/python3.6/site-packages/IPython/core/interactiveshell.py:2698: DtypeWarning: Columns (0) have mixed types. Specify dtype option on import or set low_memory=False.\n",
      "  interactivity=interactivity, compiler=compiler, result=result)\n"
     ]
    },
    {
     "data": {
      "application/vnd.jupyter.widget-view+json": {
       "model_id": "87dd6ec4a18d47c6925702fbf84b61ed"
      }
     },
     "metadata": {},
     "output_type": "display_data"
    }
   ],
   "source": [
    "CHUNK_SIZE = int(30e3)\n",
    "\n",
    "for fecha, csv in tqdm_notebook(zip(fechas[-1:], archivos[-1:]), total=1):\n",
    "    relevamiento, _ = Relevamiento.objects.get_or_create(fecha=fecha)\n",
    "    precios = pd.read_csv(csv)\n",
    "    # sólo precios para productos conocidos\n",
    "    precios = precios.loc[precios.producto_id.astype(str).isin(prods.id.astype(str))]\n",
    "    \n",
    "    expected_iterations = precios.index.size // CHUNK_SIZE + 1\n",
    "    for group in tqdm_notebook(grouper(precios.itertuples(), CHUNK_SIZE), total=expected_iterations): \n",
    "        p = []\n",
    "        for r in group:\n",
    "            if not r:\n",
    "                # terminamos! \n",
    "                break\n",
    "            try:\n",
    "                p.append(Precio(sucursal_id=r.sucursal_id, producto_id=r.producto_id, relevamiento=relevamiento, precio=r.precio))\n",
    "            except Exception as e:\n",
    "                print(e)\n",
    "                continue\n",
    "        Precio.objects.bulk_create(p)"
   ]
  },
  {
   "cell_type": "code",
   "execution_count": 31,
   "metadata": {},
   "outputs": [
    {
     "data": {
      "text/plain": [
       "0"
      ]
     },
     "execution_count": 31,
     "metadata": {},
     "output_type": "execute_result"
    }
   ],
   "source": [
    "Precio.objects.count()"
   ]
  },
  {
   "cell_type": "code",
   "execution_count": 8,
   "metadata": {
    "collapsed": true
   },
   "outputs": [],
   "source": [
    "archivos = !ls datasets/precios_*.csv\n",
    "fechas = [f[17:-4] for f in archivos ]\n",
    "\n",
    "precios = pd.read_csv('datasets/precios_2018-04-20.csv')"
   ]
  },
  {
   "cell_type": "code",
   "execution_count": 12,
   "metadata": {
    "collapsed": true
   },
   "outputs": [],
   "source": [
    "relevamiento = Relevamiento.objects.get(fecha=\"2018-04-20\")"
   ]
  },
  {
   "cell_type": "code",
   "execution_count": 10,
   "metadata": {},
   "outputs": [
    {
     "data": {
      "text/plain": [
       "('datasets/precios_2018-04-20.csv',\n",
       " Pandas(Index=4607755, sucursal_id='17-1-256', precio=18.800000000000001, producto_id='7790220001705'))"
      ]
     },
     "execution_count": 10,
     "metadata": {},
     "output_type": "execute_result"
    }
   ],
   "source": [
    "csv, r"
   ]
  },
  {
   "cell_type": "code",
   "execution_count": 14,
   "metadata": {},
   "outputs": [
    {
     "name": "stdout",
     "output_type": "stream",
     "text": [
      "Collecting tqdm\n",
      "  Downloading https://files.pythonhosted.org/packages/93/24/6ab1df969db228aed36a648a8959d1027099ce45fad67532b9673d533318/tqdm-4.23.4-py2.py3-none-any.whl (42kB)\n",
      "\u001b[K    100% |████████████████████████████████| 51kB 592kB/s ta 0:00:01\n",
      "\u001b[?25hInstalling collected packages: tqdm\n",
      "Successfully installed tqdm-4.23.4\n",
      "\u001b[33mYou are using pip version 9.0.1, however version 10.0.1 is available.\n",
      "You should consider upgrading via the 'pip install --upgrade pip' command.\u001b[0m\n"
     ]
    }
   ],
   "source": [
    "!pip install tqdm"
   ]
  },
  {
   "cell_type": "code",
   "execution_count": 10,
   "metadata": {},
   "outputs": [
    {
     "data": {
      "text/plain": [
       "9200"
      ]
     },
     "execution_count": 10,
     "metadata": {},
     "output_type": "execute_result"
    }
   ],
   "source": [
    "precios[4607755:].size // 600"
   ]
  },
  {
   "cell_type": "code",
   "execution_count": 29,
   "metadata": {},
   "outputs": [
    {
     "data": {
      "application/vnd.jupyter.widget-view+json": {
       "model_id": "b06bfbe74aed4d0dafbb0a464d997c07"
      }
     },
     "metadata": {},
     "output_type": "display_data"
    },
    {
     "data": {
      "application/vnd.jupyter.widget-view+json": {
       "model_id": "ee45505c18d94e70b6d76793d04656b8"
      }
     },
     "metadata": {},
     "output_type": "display_data"
    },
    {
     "ename": "NameError",
     "evalue": "name 'sucursal' is not defined",
     "output_type": "error",
     "traceback": [
      "\u001b[0;31m---------------------------------------------------------------------------\u001b[0m",
      "\u001b[0;31mAttributeError\u001b[0m                            Traceback (most recent call last)",
      "\u001b[0;32m<ipython-input-29-3a635c719b27>\u001b[0m in \u001b[0;36m<module>\u001b[0;34m()\u001b[0m\n\u001b[1;32m     11\u001b[0m         \u001b[0;32mtry\u001b[0m\u001b[0;34m:\u001b[0m\u001b[0;34m\u001b[0m\u001b[0m\n\u001b[0;32m---> 12\u001b[0;31m             \u001b[0msucursal\u001b[0m \u001b[0;34m=\u001b[0m \u001b[0mSucursal\u001b[0m\u001b[0;34m.\u001b[0m\u001b[0mget_by_full_id\u001b[0m\u001b[0;34m(\u001b[0m\u001b[0mr\u001b[0m\u001b[0;34m.\u001b[0m\u001b[0msucursal_id\u001b[0m\u001b[0;34m)\u001b[0m\u001b[0;34m\u001b[0m\u001b[0m\n\u001b[0m\u001b[1;32m     13\u001b[0m         \u001b[0;32mexcept\u001b[0m \u001b[0msucursal\u001b[0m\u001b[0;34m.\u001b[0m\u001b[0mDoesNotExist\u001b[0m \u001b[0;32mas\u001b[0m \u001b[0me\u001b[0m\u001b[0;34m:\u001b[0m\u001b[0;34m\u001b[0m\u001b[0m\n",
      "\u001b[0;31mAttributeError\u001b[0m: type object 'Sucursal' has no attribute 'get_by_full_id'",
      "\nDuring handling of the above exception, another exception occurred:\n",
      "\u001b[0;31mNameError\u001b[0m                                 Traceback (most recent call last)",
      "\u001b[0;32m<ipython-input-29-3a635c719b27>\u001b[0m in \u001b[0;36m<module>\u001b[0;34m()\u001b[0m\n\u001b[1;32m     11\u001b[0m         \u001b[0;32mtry\u001b[0m\u001b[0;34m:\u001b[0m\u001b[0;34m\u001b[0m\u001b[0m\n\u001b[1;32m     12\u001b[0m             \u001b[0msucursal\u001b[0m \u001b[0;34m=\u001b[0m \u001b[0mSucursal\u001b[0m\u001b[0;34m.\u001b[0m\u001b[0mget_by_full_id\u001b[0m\u001b[0;34m(\u001b[0m\u001b[0mr\u001b[0m\u001b[0;34m.\u001b[0m\u001b[0msucursal_id\u001b[0m\u001b[0;34m)\u001b[0m\u001b[0;34m\u001b[0m\u001b[0m\n\u001b[0;32m---> 13\u001b[0;31m         \u001b[0;32mexcept\u001b[0m \u001b[0msucursal\u001b[0m\u001b[0;34m.\u001b[0m\u001b[0mDoesNotExist\u001b[0m \u001b[0;32mas\u001b[0m \u001b[0me\u001b[0m\u001b[0;34m:\u001b[0m\u001b[0;34m\u001b[0m\u001b[0m\n\u001b[0m\u001b[1;32m     14\u001b[0m             \u001b[0mprint\u001b[0m\u001b[0;34m(\u001b[0m\u001b[0me\u001b[0m\u001b[0;34m,\u001b[0m \u001b[0mr\u001b[0m\u001b[0;34m.\u001b[0m\u001b[0msucursal_id\u001b[0m\u001b[0;34m)\u001b[0m\u001b[0;34m\u001b[0m\u001b[0m\n\u001b[1;32m     15\u001b[0m             \u001b[0;32mcontinue\u001b[0m\u001b[0;34m\u001b[0m\u001b[0m\n",
      "\u001b[0;31mNameError\u001b[0m: name 'sucursal' is not defined"
     ]
    }
   ],
   "source": [
    "\n",
    "\n",
    "for chunk in tqdm_notebook(grouper(precios[4607755:].itertuples(), 600), total=9200):\n",
    "    p = []\n",
    "    for r in tqdm_notebook(chunk, total=600, leave=False):\n",
    "        try:\n",
    "            producto = Producto.objects.get(codigo=r.producto_id)\n",
    "        except Producto.DoesNotExist as e:\n",
    "            print(e)\n",
    "            continue\n",
    "        try:\n",
    "            sucursal = Sucursal.get_by_full_id(r.sucursal_id)\n",
    "        except sucursal.DoesNotExist as e:\n",
    "            print(e, r.sucursal_id)\n",
    "            continue\n",
    "        \n",
    "        p.append(Precio(sucursal=sucursal, producto=producto, relevamiento=relevamiento, precio=r.precio))\n",
    "        \n",
    "    Precio.objects.bulk_create(p)"
   ]
  },
  {
   "cell_type": "code",
   "execution_count": 17,
   "metadata": {},
   "outputs": [
    {
     "data": {
      "text/plain": [
       "(4751499, 4751499)"
      ]
     },
     "execution_count": 17,
     "metadata": {},
     "output_type": "execute_result"
    }
   ],
   "source": [
    "relevamiento.precio_set.count(), Precio.objects.count()"
   ]
  }
 ],
 "metadata": {
  "kernelspec": {
   "display_name": "Python 3",
   "language": "python",
   "name": "python3"
  },
  "language_info": {
   "codemirror_mode": {
    "name": "ipython",
    "version": 3
   },
   "file_extension": ".py",
   "mimetype": "text/x-python",
   "name": "python",
   "nbconvert_exporter": "python",
   "pygments_lexer": "ipython3",
   "version": "3.6.1"
  }
 },
 "nbformat": 4,
 "nbformat_minor": 2
}
